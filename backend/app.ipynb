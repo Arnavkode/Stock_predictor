{
 "cells": [
  {
   "cell_type": "code",
   "execution_count": 22,
   "id": "f5dde27b",
   "metadata": {},
   "outputs": [],
   "source": [
    "\n",
    "# import yfinance as yf\n",
    "# import numpy as np\n",
    "# import joblib\n",
    "# from tensorflow.keras.models import load_model\n",
    "# from datetime import datetime\n",
    "# import time\n",
    "\n",
    "# # Load the model and scaler\n",
    "# model = load_model('model/stock_model.h5')\n",
    "# scaler = joblib.load('model/scaler.save')\n",
    "# print(\"✅ Model and scaler loaded successfully.\")\n",
    "\n",
    "# # Parameters\n",
    "# symbol = 'TCS.NS'  # Replace with your stock symbol\n",
    "# SEQUENCE_LENGTH = 30  # Same as used during training\n",
    "\n",
    "# # Real-time prediction loop\n",
    "# import matplotlib.pyplot as plt\n",
    "\n",
    "# def fetch_data_with_retry(symbol, retries=3, wait_time=60):\n",
    "#     for attempt in range(retries):\n",
    "#         try:\n",
    "#             # Fetch data\n",
    "#             df = yf.download(symbol, period='1d', interval='1m')\n",
    "#             return df\n",
    "#         except Exception as e:\n",
    "#             print(f\"⚠️ Error fetching data: {e}. Retrying in {wait_time} seconds...\")\n",
    "#             time.sleep(wait_time)\n",
    "#     raise Exception(\"❌ Failed to fetch data after multiple retries.\")\n",
    "\n",
    "\n",
    "# # Real-time prediction loop\n",
    "# while True:\n",
    "#     try:\n",
    "#         # Clear the output for a clean display\n",
    "#         from IPython.display import clear_output\n",
    "#         clear_output(wait=True)\n",
    "\n",
    "#         # 📥 Fetch real-time data\n",
    "#         df = fetch_data_with_retry('TCS.NS') # 1 day of 1-minute data\n",
    "#         df = df[['Close']].dropna().reset_index()\n",
    "\n",
    "#         # 🧼 Preprocess the data\n",
    "#         scaled_data = scaler.transform(df[['Close']])\n",
    "#         latest_sequence = scaled_data[-SEQUENCE_LENGTH:].reshape(1, SEQUENCE_LENGTH, 1)\n",
    "\n",
    "#         # 🔮 Predict the next price\n",
    "#         prediction = model.predict(latest_sequence)\n",
    "#         predicted_price = scaler.inverse_transform(prediction).flatten()[0]  # Convert back to original scale\n",
    "#         current_price = df['Close'].iloc[-1]\n",
    "\n",
    "#         # 📊 Display the results\n",
    "#         print(f\"📍 Symbol: {symbol}\")\n",
    "#         print(f\"⏱️ Timestamp: {datetime.now()}\")\n",
    "#         print(f\"💵 Current Price: ₹{round(current_price, 2)}\")\n",
    "#         print(f\"🔮 Predicted Price (5 min ahead): ₹{round(predicted_price, 2)}\")\n",
    "\n",
    "#         # 📈 Plot the results\n",
    "#         plt.figure(figsize=(12, 6))\n",
    "#         plt.plot(df['Close'], label='Actual Prices', color='blue')\n",
    "#         plt.axhline(y=predicted_price, color='red', linestyle='--', label='Predicted Price (5 min ahead)')\n",
    "#         plt.title(f\"{symbol} - Real-Time Price Prediction\")\n",
    "#         plt.xlabel('Time')\n",
    "#         plt.ylabel('Price (₹)')\n",
    "#         plt.legend()\n",
    "#         plt.grid(True)\n",
    "#         plt.show()\n",
    "\n",
    "#         # ⏳ Wait before fetching new data (e.g., 5 minutes)\n",
    "#         print(\"⏳ Waiting for the next update...\")\n",
    "#         time.sleep(20)\n",
    "\n",
    "#     except Exception as e:\n",
    "#         print(f\"❌ Error during real-time prediction: {e}\")\n",
    "#         break"
   ]
  },
  {
   "cell_type": "code",
   "execution_count": 21,
   "id": "4e90b5cb",
   "metadata": {},
   "outputs": [
    {
     "name": "stderr",
     "output_type": "stream",
     "text": [
      "WARNING:absl:Compiled the loaded model, but the compiled metrics have yet to be built. `model.compile_metrics` will be empty until you train or evaluate the model.\n"
     ]
    },
    {
     "name": "stdout",
     "output_type": "stream",
     "text": [
      "✅ Model and scaler loaded successfully.\n",
      " * Serving Flask app '__main__'\n",
      " * Debug mode: off\n"
     ]
    },
    {
     "name": "stderr",
     "output_type": "stream",
     "text": [
      "INFO:werkzeug:\u001b[31m\u001b[1mWARNING: This is a development server. Do not use it in a production deployment. Use a production WSGI server instead.\u001b[0m\n",
      " * Running on all addresses (0.0.0.0)\n",
      " * Running on http://127.0.0.1:5000\n",
      " * Running on http://172.16.105.158:5000\n",
      "INFO:werkzeug:\u001b[33mPress CTRL+C to quit\u001b[0m\n"
     ]
    }
   ],
   "source": [
    "from flask import Flask, request, jsonify\n",
    "import yfinance as yf\n",
    "import numpy as np\n",
    "import joblib\n",
    "from tensorflow.keras.models import load_model\n",
    "from datetime import datetime\n",
    "\n",
    "# Initialize Flask app\n",
    "app = Flask(__name__)\n",
    "\n",
    "# Load the model and scaler\n",
    "model = load_model('model/stock_model.h5')\n",
    "scaler = joblib.load('model/scaler.save')\n",
    "print(\"✅ Model and scaler loaded successfully.\")\n",
    "\n",
    "# Parameters\n",
    "SEQUENCE_LENGTH = 30  # Same as used during training\n",
    "\n",
    "# Function to fetch real-time data\n",
    "def fetch_real_time_data(symbol):\n",
    "    try:\n",
    "        # Fetch real-time data\n",
    "        df = yf.download(symbol, period='1d', interval='1m')\n",
    "        df = df[['Close']].dropna().reset_index()\n",
    "        return df\n",
    "    except Exception as e:\n",
    "        raise Exception(f\"Error fetching data for {symbol}: {e}\")\n",
    "\n",
    "# Define the prediction endpoint\n",
    "@app.route('/predict', methods=['GET'])\n",
    "def predict():\n",
    "    try:\n",
    "        # Get the stock symbol from the request\n",
    "        symbol = request.args.get('symbol', default='TCS.NS', type=str)\n",
    "\n",
    "        # Fetch real-time data\n",
    "        df = fetch_real_time_data(symbol)\n",
    "\n",
    "        # Preprocess the data\n",
    "        scaled_data = scaler.transform(df[['Close']])\n",
    "        latest_sequence = scaled_data[-SEQUENCE_LENGTH:].reshape(1, SEQUENCE_LENGTH, 1)\n",
    "\n",
    "        # Make the prediction\n",
    "        prediction = model.predict(latest_sequence)\n",
    "        predicted_price = float(scaler.inverse_transform(prediction).flatten()[0])  # Convert to float\n",
    "        current_price = float(df['Close'].iloc[-1])  # Convert to float\n",
    "\n",
    "        # Return the prediction as JSON\n",
    "        return jsonify({\n",
    "            'symbol': symbol,\n",
    "            'timestamp': datetime.now().strftime('%Y-%m-%d %H:%M:%S'),\n",
    "            'current_price': round(current_price, 2),\n",
    "            'predicted_price': round(predicted_price, 2)\n",
    "        })\n",
    "\n",
    "    except Exception as e:\n",
    "        return jsonify({'error': str(e)}), 500\n",
    "\n",
    "# Run the Flask app\n",
    "if __name__ == '__main__':\n",
    "    app.run(host='0.0.0.0', port=5000, debug=False)"
   ]
  },
  {
   "cell_type": "code",
   "execution_count": null,
   "id": "98210074",
   "metadata": {},
   "outputs": [],
   "source": [
    "import ngrok\n",
    "\n"
   ]
  },
  {
   "cell_type": "code",
   "execution_count": 18,
   "id": "03baae19",
   "metadata": {},
   "outputs": [
    {
     "ename": "SyntaxError",
     "evalue": "invalid syntax (1082831394.py, line 1)",
     "output_type": "error",
     "traceback": [
      "\u001b[1;36m  Cell \u001b[1;32mIn[18], line 1\u001b[1;36m\u001b[0m\n\u001b[1;33m    ngrok http 5000\u001b[0m\n\u001b[1;37m          ^\u001b[0m\n\u001b[1;31mSyntaxError\u001b[0m\u001b[1;31m:\u001b[0m invalid syntax\n"
     ]
    }
   ],
   "source": [
    "ngrok http 5000"
   ]
  },
  {
   "cell_type": "code",
   "execution_count": null,
   "id": "f18f3bce",
   "metadata": {},
   "outputs": [],
   "source": []
  }
 ],
 "metadata": {
  "language_info": {
   "name": "python"
  }
 },
 "nbformat": 4,
 "nbformat_minor": 5
}
