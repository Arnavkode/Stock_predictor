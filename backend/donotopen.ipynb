{
 "cells": [
  {
   "cell_type": "code",
   "execution_count": 2,
   "id": "95f31cdb",
   "metadata": {},
   "outputs": [
    {
     "name": "stdout",
     "output_type": "stream",
     "text": [
      "Epoch 1/3\n"
     ]
    },
    {
     "name": "stderr",
     "output_type": "stream",
     "text": [
      "d:\\Anaconda\\Lib\\site-packages\\keras\\src\\layers\\rnn\\rnn.py:200: UserWarning: Do not pass an `input_shape`/`input_dim` argument to a layer. When using Sequential models, prefer using an `Input(shape)` object as the first layer in the model instead.\n",
      "  super().__init__(**kwargs)\n"
     ]
    },
    {
     "name": "stdout",
     "output_type": "stream",
     "text": [
      "\u001b[1m15/15\u001b[0m \u001b[32m━━━━━━━━━━━━━━━━━━━━\u001b[0m\u001b[37m\u001b[0m \u001b[1m2s\u001b[0m 7ms/step - loss: 0.2222\n",
      "Epoch 2/3\n",
      "\u001b[1m15/15\u001b[0m \u001b[32m━━━━━━━━━━━━━━━━━━━━\u001b[0m\u001b[37m\u001b[0m \u001b[1m0s\u001b[0m 7ms/step - loss: 0.0613\n",
      "Epoch 3/3\n",
      "\u001b[1m15/15\u001b[0m \u001b[32m━━━━━━━━━━━━━━━━━━━━\u001b[0m\u001b[37m\u001b[0m \u001b[1m0s\u001b[0m 6ms/step - loss: 0.0467\n"
     ]
    },
    {
     "name": "stderr",
     "output_type": "stream",
     "text": [
      "WARNING:absl:You are saving your model as an HDF5 file via `model.save()` or `keras.saving.save_model(model)`. This file format is considered legacy. We recommend using instead the native Keras format, e.g. `model.save('my_model.keras')` or `keras.saving.save_model(model, 'my_model.keras')`. \n"
     ]
    },
    {
     "name": "stdout",
     "output_type": "stream",
     "text": [
      "✅ Dummy LSTM model and scaler saved successfully.\n"
     ]
    }
   ],
   "source": [
    "import numpy as np\n",
    "import pandas as pd\n",
    "import os\n",
    "import joblib\n",
    "from sklearn.preprocessing import MinMaxScaler\n",
    "from tensorflow.keras.models import Sequential\n",
    "from tensorflow.keras.layers import LSTM, Dense\n",
    "\n",
    "# Create model directory if it doesn't exist\n",
    "os.makedirs(\"model\", exist_ok=True)\n",
    "\n",
    "# Step 1: Generate dummy stock-like price data\n",
    "np.random.seed(42)\n",
    "data = np.sin(np.linspace(0, 50, 500)) + np.random.normal(0, 0.1, 500)\n",
    "df = pd.DataFrame(data, columns=['Close'])\n",
    "\n",
    "# Step 2: Fit and save the scaler\n",
    "scaler = MinMaxScaler()\n",
    "scaled_data = scaler.fit_transform(df[['Close']])\n",
    "joblib.dump(scaler, 'model/scaler.save')\n",
    "\n",
    "# Step 3: Prepare sequences for LSTM\n",
    "SEQUENCE_LENGTH = 30\n",
    "X, y = [], []\n",
    "for i in range(len(scaled_data) - SEQUENCE_LENGTH - 1):\n",
    "    X.append(scaled_data[i:i+SEQUENCE_LENGTH])\n",
    "    y.append(scaled_data[i+SEQUENCE_LENGTH])\n",
    "X, y = np.array(X), np.array(y)\n",
    "\n",
    "# Step 4: Build a basic LSTM model\n",
    "model = Sequential()\n",
    "model.add(LSTM(32, input_shape=(SEQUENCE_LENGTH, 1)))\n",
    "model.add(Dense(1))\n",
    "model.compile(optimizer='adam', loss='mse')\n",
    "\n",
    "# Step 5: Train and save the model\n",
    "model.fit(X, y, epochs=3, verbose=1)\n",
    "model.save('model/stock_model.h5')\n",
    "\n",
    "print(\"✅ Dummy LSTM model and scaler saved successfully.\")\n"
   ]
  },
  {
   "cell_type": "code",
   "execution_count": null,
   "id": "d56cfeaf",
   "metadata": {},
   "outputs": [],
   "source": []
  }
 ],
 "metadata": {
  "kernelspec": {
   "display_name": "base",
   "language": "python",
   "name": "python3"
  },
  "language_info": {
   "codemirror_mode": {
    "name": "ipython",
    "version": 3
   },
   "file_extension": ".py",
   "mimetype": "text/x-python",
   "name": "python",
   "nbconvert_exporter": "python",
   "pygments_lexer": "ipython3",
   "version": "3.12.3"
  }
 },
 "nbformat": 4,
 "nbformat_minor": 5
}
